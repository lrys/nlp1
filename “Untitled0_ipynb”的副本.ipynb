{
  "nbformat": 4,
  "nbformat_minor": 0,
  "metadata": {
    "colab": {
      "provenance": [],
      "authorship_tag": "ABX9TyOjiHCTenAY9yrSbDV7aAL9",
      "include_colab_link": true
    },
    "kernelspec": {
      "name": "python3",
      "display_name": "Python 3"
    },
    "language_info": {
      "name": "python"
    }
  },
  "cells": [
    {
      "cell_type": "markdown",
      "metadata": {
        "id": "view-in-github",
        "colab_type": "text"
      },
      "source": [
        "<a href=\"https://colab.research.google.com/github/lrys/nlp1/blob/main/%E2%80%9CUntitled0_ipynb%E2%80%9D%E7%9A%84%E5%89%AF%E6%9C%AC.ipynb\" target=\"_parent\"><img src=\"https://colab.research.google.com/assets/colab-badge.svg\" alt=\"Open In Colab\"/></a>"
      ]
    },
    {
      "cell_type": "code",
      "execution_count": null,
      "metadata": {
        "colab": {
          "base_uri": "https://localhost:8080/"
        },
        "id": "HHq3T5dE3y5p",
        "outputId": "fe82cced-6dd3-4811-9ae1-9e99ab56750f"
      },
      "outputs": [
        {
          "output_type": "stream",
          "name": "stdout",
          "text": [
            "fatal: destination path 'nlp1' already exists and is not an empty directory.\n"
          ]
        }
      ],
      "source": [
        "!git clone https://github.com/lrys/nlp1.git\n"
      ]
    },
    {
      "cell_type": "code",
      "source": [
        "import numpy\n",
        "import csv\n",
        "import random\n",
        "from feature.py import Bag,Gram\n",
        "from comparison_plot import alpha_gradient_plot\n",
        "\n",
        "\n",
        "# 数据读取\n",
        "with open('train.tsv') as f:\n",
        "    tsvreader = csv.reader(f, delimiter='\\t')\n",
        "    temp = list(tsvreader)\n",
        "\n",
        "# 初始化\n",
        "data = temp[1:]\n",
        "max_item=1000\n",
        "random.seed(2021)\n",
        "numpy.random.seed(2021)\n",
        "\n",
        "# 特征提取\n",
        "bag=Bag(data,max_item)\n",
        "bag.get_words()\n",
        "bag.get_matrix()\n",
        "\n",
        "gram=Gram(data, dimension=2, max_item=max_item)\n",
        "gram.get_words()\n",
        "gram.get_matrix()\n",
        "\n",
        "# 画图\n",
        "alpha_gradient_plot(bag,gram,10000,10)  # 计算10000次\n",
        "alpha_gradient_plot(bag,gram,100000,10)  # 计算100000次\n",
        "\n"
      ],
      "metadata": {
        "colab": {
          "base_uri": "https://localhost:8080/",
          "height": 387
        },
        "id": "TATTub1b0OH-",
        "outputId": "16119e49-b0f0-43e0-99d9-fafea9e75b0e"
      },
      "execution_count": 20,
      "outputs": [
        {
          "output_type": "error",
          "ename": "ModuleNotFoundError",
          "evalue": "ignored",
          "traceback": [
            "\u001b[0;31m---------------------------------------------------------------------------\u001b[0m",
            "\u001b[0;31mModuleNotFoundError\u001b[0m                       Traceback (most recent call last)",
            "\u001b[0;32m<ipython-input-20-af29ec0e6e8d>\u001b[0m in \u001b[0;36m<cell line: 4>\u001b[0;34m()\u001b[0m\n\u001b[1;32m      2\u001b[0m \u001b[0;32mimport\u001b[0m \u001b[0mcsv\u001b[0m\u001b[0;34m\u001b[0m\u001b[0;34m\u001b[0m\u001b[0m\n\u001b[1;32m      3\u001b[0m \u001b[0;32mimport\u001b[0m \u001b[0mrandom\u001b[0m\u001b[0;34m\u001b[0m\u001b[0;34m\u001b[0m\u001b[0m\n\u001b[0;32m----> 4\u001b[0;31m \u001b[0;32mfrom\u001b[0m \u001b[0mfeature\u001b[0m\u001b[0;34m.\u001b[0m\u001b[0mpy\u001b[0m \u001b[0;32mimport\u001b[0m \u001b[0mBag\u001b[0m\u001b[0;34m,\u001b[0m\u001b[0mGram\u001b[0m\u001b[0;34m\u001b[0m\u001b[0;34m\u001b[0m\u001b[0m\n\u001b[0m\u001b[1;32m      5\u001b[0m \u001b[0;32mfrom\u001b[0m \u001b[0mcomparison_plot\u001b[0m \u001b[0;32mimport\u001b[0m \u001b[0malpha_gradient_plot\u001b[0m\u001b[0;34m\u001b[0m\u001b[0;34m\u001b[0m\u001b[0m\n\u001b[1;32m      6\u001b[0m \u001b[0;34m\u001b[0m\u001b[0m\n",
            "\u001b[0;31mModuleNotFoundError\u001b[0m: No module named 'feature'",
            "",
            "\u001b[0;31m---------------------------------------------------------------------------\u001b[0;32m\nNOTE: If your import is failing due to a missing package, you can\nmanually install dependencies using either !pip or !apt.\n\nTo view examples of installing some common dependencies, click the\n\"Open Examples\" button below.\n\u001b[0;31m---------------------------------------------------------------------------\u001b[0m\n"
          ],
          "errorDetails": {
            "actions": [
              {
                "action": "open_url",
                "actionText": "Open Examples",
                "url": "/notebooks/snippets/importing_libraries.ipynb"
              }
            ]
          }
        }
      ]
    },
    {
      "cell_type": "markdown",
      "source": [
        "# 新段落"
      ],
      "metadata": {
        "id": "qL4TJOiQzzuN"
      }
    }
  ]
}